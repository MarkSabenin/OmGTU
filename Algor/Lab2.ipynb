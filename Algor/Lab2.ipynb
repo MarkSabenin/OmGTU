{
 "cells": [
  {
   "cell_type": "code",
   "execution_count": 11,
   "metadata": {
    "dotnet_interactive": {
     "language": "csharp"
    },
    "polyglot_notebook": {
     "kernelName": "csharp"
    }
   },
   "outputs": [
    {
     "name": "stdout",
     "output_type": "stream",
     "text": [
      "Новая строка: J4&1'YAA?A; время выполнения: 42\n",
      "Новый стрингбилдер: O-Q@DC*R[*; время выполнения: 11\n"
     ]
    }
   ],
   "source": [
    "using System.Diagnostics;\n",
    "Random r = new Random();\n",
    "string s = \"kefirkefir\";\n",
    "StringBuilder sb = new StringBuilder(\"kefirkefir\");\n",
    "Stopwatch time_s = new Stopwatch();\n",
    "Stopwatch time_sb = new Stopwatch();\n",
    "time_s.Start();\n",
    "for (int i = 0; i < 1000000; i++)\n",
    "{\n",
    "    char[] sc = s.ToCharArray();\n",
    "    sc[i % 10] = Convert.ToChar(r.Next(32,92));\n",
    "    s = new string(sc);\n",
    "}\n",
    "time_s.Stop();\n",
    "Console.WriteLine($\"Новая строка: {s}; время выполнения: {time_s.ElapsedMilliseconds}\");\n",
    "time_sb.Start();\n",
    "for (int i = 0; i < 1000000; i++)\n",
    "{\n",
    "    sb [i % 10] = Convert.ToChar(r.Next(32,92));\n",
    "}\n",
    "time_sb.Stop();\n",
    "Console.WriteLine($\"Новый стрингбилдер: {sb}; время выполнения: {time_sb.ElapsedMilliseconds}\");"
   ]
  },
  {
   "cell_type": "code",
   "execution_count": 4,
   "metadata": {
    "dotnet_interactive": {
     "language": "csharp"
    },
    "polyglot_notebook": {
     "kernelName": "csharp"
    }
   },
   "outputs": [
    {
     "data": {
      "text/html": [
       "<div class=\"dni-plaintext\"><pre>True</pre></div><style>\r\n",
       ".dni-code-hint {\r\n",
       "    font-style: italic;\r\n",
       "    overflow: hidden;\r\n",
       "    white-space: nowrap;\r\n",
       "}\r\n",
       ".dni-treeview {\r\n",
       "    white-space: nowrap;\r\n",
       "}\r\n",
       ".dni-treeview td {\r\n",
       "    vertical-align: top;\r\n",
       "    text-align: start;\r\n",
       "}\r\n",
       "details.dni-treeview {\r\n",
       "    padding-left: 1em;\r\n",
       "}\r\n",
       "table td {\r\n",
       "    text-align: start;\r\n",
       "}\r\n",
       "table tr { \r\n",
       "    vertical-align: top; \r\n",
       "    margin: 0em 0px;\r\n",
       "}\r\n",
       "table tr td pre \r\n",
       "{ \r\n",
       "    vertical-align: top !important; \r\n",
       "    margin: 0em 0px !important;\r\n",
       "} \r\n",
       "table th {\r\n",
       "    text-align: start;\r\n",
       "}\r\n",
       "</style>"
      ]
     },
     "metadata": {},
     "output_type": "display_data"
    }
   ],
   "source": [
    "using System.Text.RegularExpressions;\n",
    "\n",
    "\n",
    "string str = \"20:31\";\n",
    "string regex  = @\"([0-1][0-9]|2[0-3]):([0-5][0-9])\";\n",
    "\n",
    "\n",
    "Regex.IsMatch(str, regex)"
   ]
  },
  {
   "cell_type": "code",
   "execution_count": 1,
   "metadata": {
    "dotnet_interactive": {
     "language": "csharp"
    },
    "polyglot_notebook": {
     "kernelName": "csharp"
    }
   },
   "outputs": [
    {
     "data": {
      "text/html": [
       "<div class=\"dni-plaintext\"><pre>True</pre></div><style>\r\n",
       ".dni-code-hint {\r\n",
       "    font-style: italic;\r\n",
       "    overflow: hidden;\r\n",
       "    white-space: nowrap;\r\n",
       "}\r\n",
       ".dni-treeview {\r\n",
       "    white-space: nowrap;\r\n",
       "}\r\n",
       ".dni-treeview td {\r\n",
       "    vertical-align: top;\r\n",
       "    text-align: start;\r\n",
       "}\r\n",
       "details.dni-treeview {\r\n",
       "    padding-left: 1em;\r\n",
       "}\r\n",
       "table td {\r\n",
       "    text-align: start;\r\n",
       "}\r\n",
       "table tr { \r\n",
       "    vertical-align: top; \r\n",
       "    margin: 0em 0px;\r\n",
       "}\r\n",
       "table tr td pre \r\n",
       "{ \r\n",
       "    vertical-align: top !important; \r\n",
       "    margin: 0em 0px !important;\r\n",
       "} \r\n",
       "table th {\r\n",
       "    text-align: start;\r\n",
       "}\r\n",
       "</style>"
      ]
     },
     "metadata": {},
     "output_type": "display_data"
    }
   ],
   "source": [
    "using System.Text.RegularExpressions;\n",
    "string mail = \"fbjfdjkvnkj223jnvjdafvjn--fbf-.fbf@fbfksdkm-fb.ru\";\n",
    "string regex = @\"[\\w\\-\\.]@([\\w\\-]+\\.)+[\\w]{2,}\";\n",
    "Regex.IsMatch(mail, regex)"
   ]
  }
 ],
 "metadata": {
  "kernelspec": {
   "display_name": ".NET (C#)",
   "language": "C#",
   "name": ".net-csharp"
  },
  "polyglot_notebook": {
   "kernelInfo": {
    "defaultKernelName": "csharp",
    "items": [
     {
      "aliases": [],
      "languageName": "csharp",
      "name": "csharp"
     }
    ]
   }
  }
 },
 "nbformat": 4,
 "nbformat_minor": 2
}
