{
 "cells": [
  {
   "cell_type": "code",
   "execution_count": null,
   "metadata": {
    "dotnet_interactive": {
     "language": "csharp"
    },
    "polyglot_notebook": {
     "kernelName": "csharp"
    }
   },
   "outputs": [],
   "source": [
    "using System.Diagnostics;\n",
    "Random r = new Random();\n",
    "string s = \"kefirkefir\";\n",
    "StringBuilder string_builder = new StringBuilder(\"kefirkefir\");\n",
    "Stopwatch time_s = new Stopwatch();\n",
    "Stopwatch time_sb = new Stopwatch();\n",
    "time_s.Start();\n",
    "for (int i = 0; i < 1000000; i++)\n",
    "{\n",
    "    char[] sc = s.ToCharArray();\n",
    "    sc[i % 10] = Convert.ToChar(r.Next(32,92));\n",
    "    char symbol = Convert.ToChar(r.Next(32,92));\n",
    "    s = sc.ToString();\n",
    "}\n",
    "time_default.Stop();\n",
    "Console.WriteLine($\"Новая строка: {string_default}; время выполнения: {time_default.ElapsedMilliseconds}\");\n",
    "time_builder.Start();\n",
    "for (int i = 0; i < 1000000; i++)\n",
    "{\n",
    "    string_builder [i % 10] = Convert.ToChar(r.Next(32,92));\n",
    "}\n",
    "time_builder.Stop();\n",
    "Console.WriteLine($\"Новый стрингбилдер: {string_builder}; время выполнения: {time_builder.ElapsedMilliseconds}\");\n"
   ]
  },
  {
   "cell_type": "code",
   "execution_count": null,
   "metadata": {},
   "outputs": [],
   "source": [
    "using System.Text.RegularExpressions;\n",
    "string time = \"22:22\";\n",
    "string regex  = @\"([0-1][0-9]|2[0-3]):([0-5][0-9])\";\n",
    "Regex.IsMatch(str, time)"
   ]
  },
  {
   "cell_type": "code",
   "execution_count": null,
   "metadata": {
    "dotnet_interactive": {
     "language": "csharp"
    },
    "polyglot_notebook": {
     "kernelName": "csharp"
    }
   },
   "outputs": [],
   "source": [
    "using System.Text.RegularExpressions;\n",
    "string mail = \"fdhcf_FEDF.DLls-d-x-l--___xl..vcx@g.jh-xlv-.xl-_-l.o_o\";\n",
    "string regex = @\"[\\w\\-\\.]@([\\w\\-]+\\.)+[\\w]{2,}\";\n",
    "Regex.IsMatch(mail, regex)"
   ]
  }
 ],
 "metadata": {
  "kernelspec": {
   "display_name": ".NET (C#)",
   "language": "C#",
   "name": ".net-csharp"
  },
  "polyglot_notebook": {
   "kernelInfo": {
    "defaultKernelName": "csharp",
    "items": [
     {
      "aliases": [],
      "languageName": "csharp",
      "name": "csharp"
     }
    ]
   }
  }
 },
 "nbformat": 4,
 "nbformat_minor": 2
}
