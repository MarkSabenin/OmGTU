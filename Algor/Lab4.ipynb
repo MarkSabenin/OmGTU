{
 "cells": [
  {
   "cell_type": "code",
   "execution_count": 3,
   "metadata": {
    "dotnet_interactive": {
     "language": "csharp"
    },
    "polyglot_notebook": {
     "kernelName": "csharp"
    },
    "vscode": {
     "languageId": "polyglot-notebook"
    }
   },
   "outputs": [
    {
     "name": "stdout",
     "output_type": "stream",
     "text": [
      "EmbeddedAttribute\n",
      "\tEquals\n",
      "\t\tВозвращаемый тип - Boolean\n",
      "\t\tВходные параметры:\n",
      "\t\tИмя obj, Тип RuntimeType\n",
      "\tGetHashCode\n",
      "\t\tВозвращаемый тип - Int32\n",
      "\tget_TypeId\n",
      "\t\tВозвращаемый тип - Object\n",
      "\tMatch\n",
      "\t\tВозвращаемый тип - Boolean\n",
      "\t\tВходные параметры:\n",
      "\t\tИмя obj, Тип RuntimeType\n",
      "\tIsDefaultAttribute\n",
      "\t\tВозвращаемый тип - Boolean\n",
      "\tGetType\n",
      "\t\tВозвращаемый тип - Type\n",
      "\tToString\n",
      "\t\tВозвращаемый тип - String\n",
      "NullableAttribute\n",
      "\tEquals\n",
      "\t\tВозвращаемый тип - Boolean\n",
      "\t\tВходные параметры:\n",
      "\t\tИмя obj, Тип RuntimeType\n",
      "\tGetHashCode\n",
      "\t\tВозвращаемый тип - Int32\n",
      "\tget_TypeId\n",
      "\t\tВозвращаемый тип - Object\n",
      "\tMatch\n",
      "\t\tВозвращаемый тип - Boolean\n",
      "\t\tВходные параметры:\n",
      "\t\tИмя obj, Тип RuntimeType\n",
      "\tIsDefaultAttribute\n",
      "\t\tВозвращаемый тип - Boolean\n",
      "\tGetType\n",
      "\t\tВозвращаемый тип - Type\n",
      "\tToString\n",
      "\t\tВозвращаемый тип - String\n",
      "NullableContextAttribute\n",
      "\tEquals\n",
      "\t\tВозвращаемый тип - Boolean\n",
      "\t\tВходные параметры:\n",
      "\t\tИмя obj, Тип RuntimeType\n",
      "\tGetHashCode\n",
      "\t\tВозвращаемый тип - Int32\n",
      "\tget_TypeId\n",
      "\t\tВозвращаемый тип - Object\n",
      "\tMatch\n",
      "\t\tВозвращаемый тип - Boolean\n",
      "\t\tВходные параметры:\n",
      "\t\tИмя obj, Тип RuntimeType\n",
      "\tIsDefaultAttribute\n",
      "\t\tВозвращаемый тип - Boolean\n",
      "\tGetType\n",
      "\t\tВозвращаемый тип - Type\n",
      "\tToString\n",
      "\t\tВозвращаемый тип - String\n",
      "ICommand\n",
      "\tExecute\n",
      "\t\tВозвращаемый тип - Void\n",
      "IoC\n",
      "\tResolve\n",
      "\t\tВозвращаемый тип - T\n",
      "\t\tВходные параметры:\n",
      "\t\tИмя dependency, Тип RuntimeType\n",
      "\t\tИмя args, Тип RuntimeType\n",
      "\tGetType\n",
      "\t\tВозвращаемый тип - Type\n",
      "\tToString\n",
      "\t\tВозвращаемый тип - String\n",
      "\tEquals\n",
      "\t\tВозвращаемый тип - Boolean\n",
      "\t\tВходные параметры:\n",
      "\t\tИмя obj, Тип RuntimeType\n",
      "\tGetHashCode\n",
      "\t\tВозвращаемый тип - Int32\n",
      "SetupCommand\n",
      "\tExecute\n",
      "\t\tВозвращаемый тип - Void\n",
      "\tGetType\n",
      "\t\tВозвращаемый тип - Type\n",
      "\tToString\n",
      "\t\tВозвращаемый тип - String\n",
      "\tEquals\n",
      "\t\tВозвращаемый тип - Boolean\n",
      "\t\tВходные параметры:\n",
      "\t\tИмя obj, Тип RuntimeType\n",
      "\tGetHashCode\n",
      "\t\tВозвращаемый тип - Int32\n",
      "<>c\n",
      "\tGetType\n",
      "\t\tВозвращаемый тип - Type\n",
      "\tToString\n",
      "\t\tВозвращаемый тип - String\n",
      "\tEquals\n",
      "\t\tВозвращаемый тип - Boolean\n",
      "\t\tВходные параметры:\n",
      "\t\tИмя obj, Тип RuntimeType\n",
      "\tGetHashCode\n",
      "\t\tВозвращаемый тип - Int32\n"
     ]
    }
   ],
   "source": [
    "using System.Reflection;\n",
    "using System.Linq;\n",
    "\n",
    "Assembly a = Assembly.LoadFrom(\"core.dll\");\n",
    "foreach (Type t in a.GetTypes())\n",
    "{\n",
    "    Console.WriteLine(t.Name);\n",
    "    foreach (var m in t.GetMethods())\n",
    "    {\n",
    "        Console.WriteLine($\"\\t{m.Name}\");\n",
    "        Console.WriteLine($\"\\t\\tВозвращаемый тип - {m.ReturnType.Name}\");\n",
    "        if (m.GetParameters().ToList().Count > 0)\n",
    "        {\n",
    "            Console.WriteLine(\"\\t\\tВходные параметры:\");\n",
    "            m.GetParameters().ToList().ForEach(r => Console.WriteLine($\"\\t\\tИмя {r.Name}, Тип {t.GetType().Name}\"));\n",
    "        }\n",
    "    }\n",
    "}\n"
   ]
  }
 ],
 "metadata": {
  "kernelspec": {
   "display_name": ".NET (C#)",
   "language": "C#",
   "name": ".net-csharp"
  },
  "language_info": {
   "name": "csharp"
  },
  "polyglot_notebook": {
   "kernelInfo": {
    "defaultKernelName": "csharp",
    "items": [
     {
      "aliases": [],
      "name": "csharp"
     }
    ]
   }
  }
 },
 "nbformat": 4,
 "nbformat_minor": 2
}
